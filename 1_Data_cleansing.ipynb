{
 "cells": [
  {
   "cell_type": "markdown",
   "metadata": {},
   "source": [
    "## Лабораторная работа № 1 \n",
    "## Выполнение разведочного анализа больших данных с использованием фреймворка Apache Spark"
   ]
  },
  {
   "cell_type": "markdown",
   "metadata": {},
   "source": [
    "### Часть 1\n",
    "\n",
    "В данной части работы рассмотрены:\n",
    "* загрузка данных из HDFS;\n",
    "* базовые преобразования данных;\n",
    "* загрузка преобразованных данных в таблицу `Apache Airflow`."
   ]
  },
  {
   "cell_type": "markdown",
   "metadata": {},
   "source": [
    "Подключим необходимые библиотеки."
   ]
  },
  {
   "cell_type": "code",
   "execution_count": 1,
   "metadata": {},
   "outputs": [],
   "source": [
    "import os\n",
    "from pyspark.sql import SparkSession, DataFrame\n",
    "from pyspark import SparkConf\n",
    "from pyspark.sql.functions import (\n",
    "    regexp_replace,\n",
    "    regexp_extract_all,\n",
    "    col,\n",
    "    lit\n",
    ")"
   ]
  },
  {
   "cell_type": "markdown",
   "metadata": {},
   "source": [
    "Сформируем объект конфигурации для `Apache Spark`, указав необходимые параметры."
   ]
  },
  {
   "cell_type": "code",
   "execution_count": 2,
   "metadata": {},
   "outputs": [],
   "source": [
    "def create_spark_configuration() -> SparkConf:\n",
    "    \"\"\"\n",
    "    Создает и конфигурирует экземпляр SparkConf для приложения Spark.\n",
    "\n",
    "    Returns:\n",
    "        SparkConf: Настроенный экземпляр SparkConf.\n",
    "    \"\"\"\n",
    "    # Получаем имя пользователя\n",
    "    user_name = os.getenv(\"USER\")\n",
    "    \n",
    "    conf = SparkConf()\n",
    "    conf.setAppName(\"lab 1 Test\")\n",
    "    conf.setMaster(\"yarn\")\n",
    "    conf.set(\"spark.submit.deployMode\", \"client\")\n",
    "    conf.set(\"spark.executor.memory\", \"12g\")\n",
    "    conf.set(\"spark.executor.cores\", \"8\")\n",
    "    conf.set(\"spark.executor.instances\", \"2\")\n",
    "    conf.set(\"spark.driver.memory\", \"4g\")\n",
    "    conf.set(\"spark.driver.cores\", \"2\")\n",
    "    conf.set(\"spark.jars.packages\", \"org.apache.iceberg:iceberg-spark-runtime-3.5_2.12:1.6.0\")\n",
    "    conf.set(\"spark.sql.extensions\", \"org.apache.iceberg.spark.extensions.IcebergSparkSessionExtensions\")\n",
    "    conf.set(\"spark.sql.catalog.spark_catalog\", \"org.apache.iceberg.spark.SparkCatalog\")\n",
    "    conf.set(\"spark.sql.catalog.spark_catalog.type\", \"hadoop\")\n",
    "    conf.set(\"spark.sql.catalog.spark_catalog.warehouse\", f\"hdfs:///user/{user_name}/warehouse\")\n",
    "    conf.set(\"spark.sql.catalog.spark_catalog.io-impl\", \"org.apache.iceberg.hadoop.HadoopFileIO\")\n",
    "\n",
    "    return conf"
   ]
  },
  {
   "cell_type": "markdown",
   "metadata": {},
   "source": [
    "Создаём сам объект конфигурации."
   ]
  },
  {
   "cell_type": "code",
   "execution_count": 3,
   "metadata": {},
   "outputs": [],
   "source": [
    "conf = create_spark_configuration()"
   ]
  },
  {
   "cell_type": "markdown",
   "metadata": {},
   "source": [
    "Создаём и выводим на экран сессию `Apache Spark`. В процессе создания сессии происходит подключение к кластеру `Apache Hadoop`, что может занять некоторое время."
   ]
  },
  {
   "cell_type": "code",
   "execution_count": 4,
   "metadata": {},
   "outputs": [
    {
     "name": "stdout",
     "output_type": "stream",
     "text": [
      ":: loading settings :: url = jar:file:/opt/spark-3.5.2-bin-hadoop3/jars/ivy-2.5.1.jar!/org/apache/ivy/core/settings/ivysettings.xml\n"
     ]
    },
    {
     "name": "stderr",
     "output_type": "stream",
     "text": [
      "Ivy Default Cache set to: /home/user6/.ivy2/cache\n",
      "The jars for the packages stored in: /home/user6/.ivy2/jars\n",
      "org.apache.iceberg#iceberg-spark-runtime-3.5_2.12 added as a dependency\n",
      ":: resolving dependencies :: org.apache.spark#spark-submit-parent-7d1a541b-8250-4bbf-b172-8cbf373e4477;1.0\n",
      "\tconfs: [default]\n",
      "\tfound org.apache.iceberg#iceberg-spark-runtime-3.5_2.12;1.6.0 in central\n",
      ":: resolution report :: resolve 586ms :: artifacts dl 23ms\n",
      "\t:: modules in use:\n",
      "\torg.apache.iceberg#iceberg-spark-runtime-3.5_2.12;1.6.0 from central in [default]\n",
      "\t---------------------------------------------------------------------\n",
      "\t|                  |            modules            ||   artifacts   |\n",
      "\t|       conf       | number| search|dwnlded|evicted|| number|dwnlded|\n",
      "\t---------------------------------------------------------------------\n",
      "\t|      default     |   1   |   0   |   0   |   0   ||   1   |   0   |\n",
      "\t---------------------------------------------------------------------\n",
      ":: retrieving :: org.apache.spark#spark-submit-parent-7d1a541b-8250-4bbf-b172-8cbf373e4477\n",
      "\tconfs: [default]\n",
      "\t0 artifacts copied, 1 already retrieved (0kB/29ms)\n",
      "Setting default log level to \"WARN\".\n",
      "To adjust logging level use sc.setLogLevel(newLevel). For SparkR, use setLogLevel(newLevel).\n",
      "25/01/14 19:36:23 WARN Utils: Service 'SparkUI' could not bind on port 4040. Attempting port 4041.\n",
      "25/01/14 19:36:23 WARN Utils: Service 'SparkUI' could not bind on port 4041. Attempting port 4042.\n",
      "25/01/14 19:36:23 WARN Utils: Service 'SparkUI' could not bind on port 4042. Attempting port 4043.\n",
      "25/01/14 19:36:23 WARN Utils: Service 'SparkUI' could not bind on port 4043. Attempting port 4044.\n",
      "25/01/14 19:36:23 WARN Utils: Service 'SparkUI' could not bind on port 4044. Attempting port 4045.\n",
      "25/01/14 19:36:28 WARN Client: Neither spark.yarn.jars nor spark.yarn.archive is set, falling back to uploading libraries under SPARK_HOME.\n",
      "25/01/14 19:36:49 WARN Client: Same path resource file:///home/user6/.ivy2/jars/org.apache.iceberg_iceberg-spark-runtime-3.5_2.12-1.6.0.jar added multiple times to distributed cache.\n"
     ]
    },
    {
     "data": {
      "text/html": [
       "\n",
       "            <div>\n",
       "                <p><b>SparkSession - in-memory</b></p>\n",
       "                \n",
       "        <div>\n",
       "            <p><b>SparkContext</b></p>\n",
       "\n",
       "            <p><a href=\"http://node32.cluster:4045\">Spark UI</a></p>\n",
       "\n",
       "            <dl>\n",
       "              <dt>Version</dt>\n",
       "                <dd><code>v3.5.2</code></dd>\n",
       "              <dt>Master</dt>\n",
       "                <dd><code>yarn</code></dd>\n",
       "              <dt>AppName</dt>\n",
       "                <dd><code>lab 1 Test</code></dd>\n",
       "            </dl>\n",
       "        </div>\n",
       "        \n",
       "            </div>\n",
       "        "
      ],
      "text/plain": [
       "<pyspark.sql.session.SparkSession at 0x7f1d08162850>"
      ]
     },
     "execution_count": 4,
     "metadata": {},
     "output_type": "execute_result"
    }
   ],
   "source": [
    "spark = SparkSession.builder.config(conf=conf).getOrCreate()\n",
    "spark"
   ]
  },
  {
   "cell_type": "markdown",
   "metadata": {},
   "source": [
    "Для исследования будем использовать датасет `\"US Used cars dataset\"`, расположенный на платформе `Kaggle` по адресу https://www.kaggle.com/datasets/ananaymital/us-used-cars-dataset.\n",
    "\n",
    "Датасет включает в себя информацию о более чем трех миллионах используемых машин в США. Он разрешен для использования в учебных целях.\n",
    "\n",
    "Данный датасет уже загружен в `HDFS` по адресу: `hdfs:///datasets/used_cars_data.csv`\n",
    "\n",
    "Указываем путь в `HDFS` для файла с данными."
   ]
  },
  {
   "cell_type": "code",
   "execution_count": 7,
   "metadata": {},
   "outputs": [],
   "source": [
    "path = \"hdfs:///user/user6/epc_cut.csv\""
   ]
  },
  {
   "cell_type": "markdown",
   "metadata": {},
   "source": [
    "Заполняем датафрейм данными из файла."
   ]
  },
  {
   "cell_type": "code",
   "execution_count": 8,
   "metadata": {},
   "outputs": [
    {
     "name": "stderr",
     "output_type": "stream",
     "text": [
      "                                                                                \r"
     ]
    }
   ],
   "source": [
    "df = (spark.read.format(\"csv\")\n",
    "      .option(\"header\", \"true\")\n",
    "      .load(path)\n",
    ")"
   ]
  },
  {
   "cell_type": "markdown",
   "metadata": {},
   "source": [
    "Выводим фрагмент датафрейма на экран."
   ]
  },
  {
   "cell_type": "code",
   "execution_count": 9,
   "metadata": {},
   "outputs": [
    {
     "name": "stderr",
     "output_type": "stream",
     "text": [
      "25/01/14 19:44:02 WARN SparkStringUtils: Truncated the string representation of a plan since it was too large. This behavior can be adjusted by setting 'spark.sql.debug.maxToStringFields'.\n",
      "                                                                                \r"
     ]
    },
    {
     "name": "stdout",
     "output_type": "stream",
     "text": [
      "+---+--------------------+--------------------+--------------+--------+--------+-------------------------+---------------------+-----------------------+-------------------------+---------------------------+-------------+-------------+---------------+---------------+------------+------+--------------+--------------------+--------------------------+----------------------------+--------------------------+----------------------------+---------------------+-----------------------------+-----------------------+---------------------+-----------------------+--------------------+----------------------+----------------------+------------------------+----------------+-------------+--------------+-----------+---------------+-----------------+---------------------+----------------------+--------------------+-----------+---------------+----------------------+-------------------+-------------------+----------------------+--------------------+--------------------+-----------------+--------------------+----------------+-------------+-------------------+------------------+---------------+--------------------+----------------+-------------+----------------------+-------------------+----------------+--------------------+---------------+------------+--------------------+-------------------+----------------+------------------------+--------------------+-----------------+--------------------+-------------------+----------------+--------------------+------------------+------------------+------------------------+------------+------------+------------------------+----------------------+--------------------+---------------------+------------------+----------+---------------------+-------------------+----------------+----------------------------+----------------------------+--------------+---------------+\n",
      "|_c0|             LMK_KEY|            ADDRESS1|      ADDRESS2|ADDRESS3|POSTCODE|BUILDING_REFERENCE_NUMBER|CURRENT_ENERGY_RATING|POTENTIAL_ENERGY_RATING|CURRENT_ENERGY_EFFICIENCY|POTENTIAL_ENERGY_EFFICIENCY|PROPERTY_TYPE|   BUILT_FORM|INSPECTION_DATE|LOCAL_AUTHORITY|CONSTITUENCY|COUNTY|LODGEMENT_DATE|    TRANSACTION_TYPE|ENVIRONMENT_IMPACT_CURRENT|ENVIRONMENT_IMPACT_POTENTIAL|ENERGY_CONSUMPTION_CURRENT|ENERGY_CONSUMPTION_POTENTIAL|CO2_EMISSIONS_CURRENT|CO2_EMISS_CURR_PER_FLOOR_AREA|CO2_EMISSIONS_POTENTIAL|LIGHTING_COST_CURRENT|LIGHTING_COST_POTENTIAL|HEATING_COST_CURRENT|HEATING_COST_POTENTIAL|HOT_WATER_COST_CURRENT|HOT_WATER_COST_POTENTIAL|TOTAL_FLOOR_AREA|ENERGY_TARIFF|MAINS_GAS_FLAG|FLOOR_LEVEL|FLAT_TOP_STOREY|FLAT_STOREY_COUNT|MAIN_HEATING_CONTROLS|MULTI_GLAZE_PROPORTION|         GLAZED_TYPE|GLAZED_AREA|EXTENSION_COUNT|NUMBER_HABITABLE_ROOMS|NUMBER_HEATED_ROOMS|LOW_ENERGY_LIGHTING|NUMBER_OPEN_FIREPLACES|HOTWATER_DESCRIPTION|HOT_WATER_ENERGY_EFF|HOT_WATER_ENV_EFF|   FLOOR_DESCRIPTION|FLOOR_ENERGY_EFF|FLOOR_ENV_EFF|WINDOWS_DESCRIPTION|WINDOWS_ENERGY_EFF|WINDOWS_ENV_EFF|   WALLS_DESCRIPTION|WALLS_ENERGY_EFF|WALLS_ENV_EFF|SECONDHEAT_DESCRIPTION|SHEATING_ENERGY_EFF|SHEATING_ENV_EFF|    ROOF_DESCRIPTION|ROOF_ENERGY_EFF|ROOF_ENV_EFF|MAINHEAT_DESCRIPTION|MAINHEAT_ENERGY_EFF|MAINHEAT_ENV_EFF|MAINHEATCONT_DESCRIPTION|MAINHEATC_ENERGY_EFF|MAINHEATC_ENV_EFF|LIGHTING_DESCRIPTION|LIGHTING_ENERGY_EFF|LIGHTING_ENV_EFF|           MAIN_FUEL|WIND_TURBINE_COUNT|HEAT_LOSS_CORRIDOR|UNHEATED_CORRIDOR_LENGTH|FLOOR_HEIGHT|PHOTO_SUPPLY|SOLAR_WATER_HEATING_FLAG|MECHANICAL_VENTILATION|             ADDRESS|LOCAL_AUTHORITY_LABEL|CONSTITUENCY_LABEL|  POSTTOWN|CONSTRUCTION_AGE_BAND| LODGEMENT_DATETIME|          TENURE|FIXED_LIGHTING_OUTLETS_COUNT|LOW_ENERGY_FIXED_LIGHT_COUNT|          UPRN|    UPRN_SOURCE|\n",
      "+---+--------------------+--------------------+--------------+--------+--------+-------------------------+---------------------+-----------------------+-------------------------+---------------------------+-------------+-------------+---------------+---------------+------------+------+--------------+--------------------+--------------------------+----------------------------+--------------------------+----------------------------+---------------------+-----------------------------+-----------------------+---------------------+-----------------------+--------------------+----------------------+----------------------+------------------------+----------------+-------------+--------------+-----------+---------------+-----------------+---------------------+----------------------+--------------------+-----------+---------------+----------------------+-------------------+-------------------+----------------------+--------------------+--------------------+-----------------+--------------------+----------------+-------------+-------------------+------------------+---------------+--------------------+----------------+-------------+----------------------+-------------------+----------------+--------------------+---------------+------------+--------------------+-------------------+----------------+------------------------+--------------------+-----------------+--------------------+-------------------+----------------+--------------------+------------------+------------------+------------------------+------------+------------+------------------------+----------------------+--------------------+---------------------+------------------+----------+---------------------+-------------------+----------------+----------------------------+----------------------------+--------------+---------------+\n",
      "|  0|0003352408dad177e...|    21 HERIOT GRANGE|    HARTLEPOOL|    NULL|TS25 3JH|              10000150044|                    E|                      B|                       53|                         83|         Flat|  End-Terrace|     2021-08-03|      E06000001|   E14000733|  NULL|    2021-08-06|              rental|                        48|                          73|                       529|                       269.0|                  3.2|                           89|                    1.6|                 35.0|                   35.0|               119.0|                 107.0|                 583.0|                   110.0|            36.0|         dual|             N|         01|              Y|             NULL|                 NULL|                 100.0|double glazing, u...|     Normal|            0.0|                   2.0|                2.0|               80.0|                   0.0|Electric immersio...|           Very Poor|             Poor|(another dwelling...|            NULL|         NULL|Fully double glazed|           Average|        Average|Cavity wall, as b...|            Poor|         Poor|  Portable electric...|               NULL|            NULL|Pitched, 250 mm l...|           Good|        Good|Electric storage ...|            Average|       Very Poor|    Manual charge con...|                Poor|             Poor|Low energy lighti...|          Very Good|       Very Good|electricity (not ...|               0.0|   heated corridor|                    NULL|         2.4|         0.0|                       N|               natural|21 HERIOT GRANGE,...|           Hartlepool|        Hartlepool|HARTLEPOOL| England and Wales...|2021-08-06 07:35:31| Rented (social)|                         5.0|                        NULL|100110786110.0|Energy Assessor|\n",
      "|  1|15149389392220170...| 9, Sea View Terrace|          NULL|    NULL|TS24 0ET|               4423379478|                    D|                      B|                       66|                         82|        House|  Mid-Terrace|     2017-01-26|      E06000001|   E14000733|  NULL|    2017-01-29|       marketed sale|                        65|                          81|                       229|                       124.0|                  3.5|                           40|                    1.9|                 97.0|                   58.0|               666.0|                 596.0|                 107.0|                    72.0|            88.0|       Single|             Y|    NODATA!|           NULL|             NULL|               2104.0|                 100.0|double glazing, u...|     Normal|            1.0|                   5.0|                5.0|               33.0|                   0.0|    From main system|                Good|             Good|Solid, no insulat...|        NO DATA!|         NULL|Fully double glazed|           Average|        Average|Cavity wall, fill...|            Good|         Good|  Room heaters, ele...|               NULL|            NULL|Pitched, 300 mm l...|      Very Good|   Very Good|Boiler and radiat...|               Good|            Good|    Programmer and ro...|             Average|          Average|Low energy lighti...|            Average|         Average|mains gas (not co...|               0.0|          NO DATA!|                    NULL|        NULL|        NULL|                       N|               natural| 9, Sea View Terrace|           Hartlepool|        Hartlepool|HARTLEPOOL| England and Wales...|2017-01-29 14:22:36|  owner-occupied|                        NULL|                        NULL|100110027519.0|Address Matched|\n",
      "|  2|14518657291020160...|    54, Chatham Road|          NULL|    NULL|TS24 8QQ|                134825478|                    D|                      B|                       61|                         85|        House|Semi-Detached|     2016-06-09|      E06000001|   E14000733|  NULL|    2016-06-09|       marketed sale|                        53|                          83|                       283|                       103.0|                  5.5|                           50|                    2.0|                 67.0|                   67.0|              1018.0|                 566.0|                 137.0|                    85.0|           110.0|       Single|             Y|    NODATA!|           NULL|             NULL|               2104.0|                 100.0|double glazing, u...|     Normal|            0.0|                   6.0|                6.0|              100.0|                   0.0|    From main system|                Good|             Good|Solid, no insulat...|        NO DATA!|         NULL|Fully double glazed|           Average|        Average|Solid brick, as b...|       Very Poor|    Very Poor|                  None|               NULL|            NULL|Pitched, 300 mm l...|      Very Good|   Very Good|Boiler and radiat...|               Good|            Good|    Programmer and ro...|             Average|          Average|Low energy lighti...|          Very Good|       Very Good|mains gas (not co...|               0.0|          NO DATA!|                    NULL|         2.5|        NULL|                       N|               natural|    54, Chatham Road|           Hartlepool|        Hartlepool|HARTLEPOOL| England and Wales...|2016-06-09 17:32:52|  owner-occupied|                        NULL|                        NULL|100110006126.0|Address Matched|\n",
      "|  3|14206524924201002...|     10, Kendal Road|          NULL|    NULL|TS25 1QY|               2295640568|                    D|                      C|                       62|                         71|        House|  End-Terrace|     2010-02-09|      E06000001|   E14000733|  NULL|    2010-02-09|    rental (private)|                        56|                          66|                       327|                       249.0|                  3.7|                           55|                    2.8|                 52.0|                   35.0|               590.0|                 458.0|                  89.0|                    89.0|           68.18|       Single|             Y|   NO DATA!|           NULL|             NULL|               2106.0|                 100.0|double glazing in...|     Normal|            2.0|                   4.0|                4.0|               50.0|                   0.0|    From main system|                Good|        Very Good|Suspended, no ins...|            NULL|         NULL|Fully double glazed|           Average|        Average|Cavity wall, as b...|            Poor|         Poor|  Room heaters, mai...|               NULL|            NULL|Pitched, 100 mm l...|        Average|     Average|Boiler and radiat...|               Good|       Very Good|    Programmer, room ...|                Good|             Good|Low energy lighti...|               Good|            Good|mains gas - this ...|               0.0|          NO DATA!|                    NULL|        2.57|         0.0|                       N|               natural|     10, Kendal Road|           Hartlepool|        Hartlepool|HARTLEPOOL| England and Wales...|2010-02-09 20:18:19|rental (private)|                        NULL|                        NULL|100110016771.0|Address Matched|\n",
      "|  4|97883539621201905...| 19, Wainwright Walk|          NULL|    NULL|TS25 1XA|               8777671178|                    D|                      C|                       65|                         79|        House|     Detached|     2019-05-17|      E06000001|   E14000733|  NULL|    2019-05-20|       marketed sale|                        57|                          74|                       238|                       144.0|                  6.0|                           42|                    3.7|                 86.0|                   86.0|              1051.0|                 794.0|                  97.0|                    97.0|           144.0|       Single|             Y|    NODATA!|           NULL|             NULL|               2106.0|                 100.0|double glazing, u...|     Normal|            2.0|                   6.0|                6.0|              100.0|                   0.0|    From main system|                Good|             Good|Solid, no insulat...|        NO DATA!|         NULL|Fully double glazed|           Average|        Average|Cavity wall, as b...|            Poor|         Poor|  Room heaters, mai...|               NULL|            NULL|Pitched, 100 mm l...|        Average|     Average|Boiler and radiat...|               Good|            Good|    Programmer, room ...|                Good|             Good|Low energy lighti...|          Very Good|       Very Good|mains gas (not co...|               0.0|          NO DATA!|                    NULL|        NULL|        NULL|                       N|               natural| 19, Wainwright Walk|           Hartlepool|        Hartlepool|HARTLEPOOL| England and Wales...|2019-05-20 07:50:56|  owner-occupied|                        NULL|                        NULL|100110033299.0|Address Matched|\n",
      "|  5|13754325898420151...|   13, Wasdale Close|          NULL|    NULL|TS24 8RF|               8894489378|                    D|                      B|                       64|                         88|     Bungalow|Semi-Detached|     2015-10-15|      E06000001|   E14000733|  NULL|    2015-10-15|     FiT application|                        60|                          88|                       302|                        86.0|                  3.1|                           53|                    0.9|                 40.0|                   40.0|               589.0|                 387.0|                 103.0|                    59.0|            58.0|       Single|             Y|    NODATA!|           NULL|             NULL|               2102.0|                 100.0|double glazing in...|     Normal|            0.0|                   3.0|                3.0|              100.0|                   0.0|    From main system|                Good|             Good|Solid, no insulat...|        NO DATA!|         NULL|Fully double glazed|              Good|           Good|Cavity wall, fill...|            Good|         Good|                  None|               NULL|            NULL|Pitched, 100 mm l...|        Average|     Average|Boiler and radiat...|               Good|            Good|    Programmer, no ro...|           Very Poor|        Very Poor|Low energy lighti...|          Very Good|       Very Good|mains gas (not co...|               0.0|          NO DATA!|                    NULL|        NULL|        NULL|                       N|               natural|   13, Wasdale Close|           Hartlepool|        Hartlepool|HARTLEPOOL| England and Wales...|2015-10-15 16:48:33|  owner-occupied|                        NULL|                        NULL|100110033604.0|Address Matched|\n",
      "|  6|55704353445201010...|  12, Challoner Road|          NULL|    NULL|TS24 8JA|               3855401868|                    E|                      C|                       53|                         75|        House|Semi-Detached|     2010-10-25|      E06000001|   E14000733|  NULL|    2010-10-25|       marketed sale|                        46|                          71|                       414|                       216.0|                  4.7|                           69|                    2.4|                 56.0|                   35.0|               638.0|                 385.0|                 209.0|                   109.0|            77.8|       Single|             Y|   NO DATA!|           NULL|             NULL|               2107.0|                 100.0|double glazing, u...|     Normal|            0.0|                   3.0|                3.0|               43.0|                   0.0|From main system,...|                Poor|          Average|Solid, no insulat...|            NULL|         NULL|Fully double glazed|           Average|        Average|Cavity wall, as b...|            Poor|         Poor|  Room heaters, mai...|               NULL|            NULL|Pitched, 200 mm l...|           Good|        Good|Boiler and radiat...|            Average|            Good|    Programmer, TRVs ...|             Average|          Average|Low energy lighti...|            Average|         Average|mains gas - this ...|               0.0|          NO DATA!|                    NULL|        2.35|         0.0|                       N|               natural|  12, Challoner Road|           Hartlepool|        Hartlepool|HARTLEPOOL| England and Wales...|2010-10-25 13:40:18|  owner-occupied|                        NULL|                        NULL|100110005936.0|Address Matched|\n",
      "|  7|16366972240202003...|     2, Baden Street|          NULL|    NULL|TS26 9BJ|               6478922568|                    D|                      C|                       58|                         80|        House|  End-Terrace|     2020-03-16|      E06000001|   E14000733|  NULL|    2020-03-16|     rental (social)|                        51|                          75|                       345|                       172.0|                  4.5|                           61|                    2.3|                111.0|                   59.0|               784.0|                 604.0|                  89.0|                    61.0|            74.0|       Single|             Y|    NODATA!|           NULL|             NULL|               2106.0|                 100.0|double glazing, u...|     Normal|            2.0|                   4.0|                4.0|               13.0|                   0.0|    From main system|                Good|             Good|Suspended, no ins...|        NO DATA!|         NULL|Fully double glazed|           Average|        Average|Cavity wall, as b...|            Poor|         Poor|                  None|               NULL|            NULL|Pitched, 300 mm l...|      Very Good|   Very Good|Boiler and radiat...|               Good|            Good|    Programmer, room ...|                Good|             Good|Low energy lighti...|               Poor|            Poor|mains gas (not co...|               0.0|          NO DATA!|                    NULL|        NULL|        NULL|                       N|               natural|     2, Baden Street|           Hartlepool|        Hartlepool|HARTLEPOOL| England and Wales...|2020-03-16 16:16:35| rental (social)|                        NULL|                        NULL|100110001728.0|Address Matched|\n",
      "|  8|12070003405201911...|34, Annandale Cre...|          NULL|    NULL|TS24 9BT|               4657488468|                    C|                      C|                       74|                         76|         Flat|Semi-Detached|     2019-11-19|      E06000001|   E14000733|  NULL|    2019-11-20|     rental (social)|                        76|                          78|                       195|                       178.0|                  1.7|                           34|                    1.5|                 40.0|                   40.0|               310.0|                 284.0|                  78.0|                    78.0|            49.0|       Single|             Y|        1st|              Y|             NULL|               2106.0|                 100.0|double glazing in...|     Normal|            0.0|                   2.0|                2.0|              100.0|                   0.0|    From main system|                Good|             Good|(another dwelling...|        NO DATA!|         NULL|Fully double glazed|              Good|           Good|Cavity wall, fill...|         Average|      Average|                  None|               NULL|            NULL|Pitched, 100 mm l...|        Average|     Average|Boiler and radiat...|               Good|            Good|    Programmer, room ...|                Good|             Good|Low energy lighti...|          Very Good|       Very Good|mains gas (not co...|               0.0|       no corridor|                    NULL|        NULL|        NULL|                       N|               natural|34, Annandale Cre...|           Hartlepool|        Hartlepool|HARTLEPOOL| England and Wales...|2019-11-20 14:28:04| rental (social)|                        NULL|                        NULL|100110000793.0|Address Matched|\n",
      "|  9|52898260990201008...| 25, Grainger Street|          NULL|    NULL|TS24 8EQ|               3907509768|                    C|                      C|                       78|                         78|         Flat|Semi-Detached|     2010-08-18|      E06000001|   E14000733|  NULL|    2010-08-18|     rental (social)|                        79|                          79|                       182|                       182.0|                  1.5|                           30|                    1.5|                 26.0|                   26.0|               293.0|                 238.0|                  75.0|                    75.0|           50.71|       Single|             Y|        1st|              Y|              2.0|               2106.0|                 100.0|double glazing in...|     Normal|            0.0|                   3.0|                3.0|              100.0|                   0.0|    From main system|           Very Good|        Very Good|(other premises b...|            NULL|         NULL|Fully double glazed|           Average|        Average|Cavity wall, fill...|            Good|         Good|  Room heaters, ele...|               NULL|            NULL|Pitched, 250 mm l...|           Good|        Good|Boiler and radiat...|          Very Good|       Very Good|    Programmer, room ...|                Good|             Good|Low energy lighti...|          Very Good|       Very Good|mains gas - this ...|               0.0|   heated corridor|                    NULL|       2.439|         0.0|                       N|  mechanical, extra...| 25, Grainger Street|           Hartlepool|        Hartlepool|HARTLEPOOL| England and Wales...|2010-08-18 14:32:12| rental (social)|                        NULL|                        NULL|100110012920.0|Address Matched|\n",
      "| 10|12127749397420141...|    21, Joicey Court|          NULL|    NULL|TS26 8BZ|               9739238278|                    C|                      B|                       79|                         90|        House|  Mid-Terrace|     2014-10-02|      E06000001|   E14000733|  NULL|    2014-10-14|   none of the above|                        80|                          91|                       115|                        53.0|                  2.4|                           22|                    1.1|                 78.0|                   62.0|               436.0|                 405.0|                 108.0|                    78.0|           108.0|       Single|             Y|    NODATA!|           NULL|             NULL|               2106.0|                 100.0|double glazing in...|     Normal|            1.0|                   4.0|                4.0|               75.0|                   0.0|From main system,...|             Average|          Average|Suspended, no ins...|            NULL|         NULL|Fully double glazed|              Good|           Good|Cavity wall, fill...|            Good|         Good|                  None|               NULL|            NULL|Pitched, 250 mm l...|           Good|        Good|Boiler and radiat...|               Good|            Good|    Programmer, room ...|                Good|             Good|Low energy lighti...|          Very Good|       Very Good|mains gas (not co...|               0.0|          NO DATA!|                    NULL|        NULL|         0.0|                    NULL|               natural|    21, Joicey Court|           Hartlepool|        Hartlepool|HARTLEPOOL| England and Wales...|2014-10-14 16:19:06| rental (social)|                         8.0|                         6.0|100110016476.0|Address Matched|\n",
      "| 11|07c4c7365951025bb...|   20 OAKLAND AVENUE|          NULL|    NULL|TS25 5LD|              10001414613|                    D|                      B|                       58|                         81|        House|Semi-Detached|     2021-07-26|      E06000001|   E14000733|  NULL|    2021-07-26|       marketed sale|                        48|                          76|                       297|                       134.0|                  7.2|                           53|                    3.3|                 95.0|                   95.0|              1220.0|                 695.0|                 100.0|                   100.0|           138.0|       Single|             Y|       NULL|           NULL|             NULL|                 NULL|                 100.0|double glazing, u...|     Normal|            0.0|                   6.0|                6.0|              100.0|                   0.0|    From main system|                Good|             Good|Solid, no insulat...|            NULL|         NULL|Fully double glazed|           Average|        Average|Cavity wall, fill...|         Average|      Average|  Room heaters, mai...|               NULL|            NULL|Pitched, 250 mm l...|           Good|        Good|Boiler and radiat...|               Good|            Good|    Programmer, room ...|                Good|             Good|Low energy lighti...|          Very Good|       Very Good|mains gas (not co...|               0.0|              NULL|                    NULL|         2.7|         0.0|                       N|               natural|   20 OAKLAND AVENUE|           Hartlepool|        Hartlepool|HARTLEPOOL| England and Wales...|2021-07-26 15:34:49|  Owner-occupied|                        10.0|                        NULL|100110022983.0|Energy Assessor|\n",
      "| 12|13417126881320190...|    116, Milton Road|          NULL|    NULL|TS26 8DX|               8864447378|                    D|                      C|                       56|                         77|        House|  Mid-Terrace|     2019-08-16|      E06000001|   E14000733|  NULL|    2019-08-19|    rental (private)|                        51|                          73|                       301|                       166.0|                  6.7|                           53|                    3.7|                167.0|                   83.0|              1296.0|                 952.0|                 105.0|                    73.0|           127.0|       Single|             Y|    NODATA!|           NULL|             NULL|               2106.0|                 100.0|double glazing in...|     Normal|            1.0|                   5.0|                4.0|                0.0|                   0.0|    From main system|                Good|             Good|Suspended, no ins...|        NO DATA!|         NULL|Fully double glazed|           Average|        Average|Solid brick, as b...|       Very Poor|    Very Poor|  Portable electric...|               NULL|            NULL|Pitched, no insul...|      Very Poor|   Very Poor|Boiler and radiat...|               Good|            Good|    Programmer, room ...|                Good|             Good|No low energy lig...|          Very Poor|       Very Poor|mains gas (not co...|               0.0|          NO DATA!|                    NULL|        NULL|        NULL|                       N|               natural|    116, Milton Road|           Hartlepool|        Hartlepool|HARTLEPOOL| England and Wales...|2019-08-19 10:31:05|rental (private)|                        NULL|                        NULL|100110021276.0|Address Matched|\n",
      "| 13|2cc79a42d6472023b...|                   8|Mariners Point|    NULL|TS24 0FB|              10001548999|                    C|                      C|                       71|                         78|         Flat|  End-Terrace|     2021-09-17|      E06000001|   E14000733|  NULL|    2021-09-17|   non marketed sale|                        59|                          79|                       279|                       134.0|                  4.2|                           47|                    2.1|                175.0|                   79.0|               573.0|                 363.0|                 254.0|                   113.0|            90.0|         dual|             Y|         03|              N|             NULL|                 NULL|                 100.0|double glazing, u...|     Normal|            0.0|                   3.0|                3.0|                0.0|                   0.0|Electric immersio...|                Poor|             Poor|(another dwelling...|            NULL|         NULL|Fully double glazed|           Average|        Average|System built, as ...|            Good|         Good|  Room heaters, ele...|               NULL|            NULL|(another dwelling...|           NULL|        NULL|Electric storage ...|            Average|       Very Poor|    Manual charge con...|                Poor|             Poor|No low energy lig...|          Very Poor|       Very Poor|electricity (not ...|               0.0| unheated corridor|                     8.0|        2.51|         0.0|                       N|               natural|   8, Mariners Point|           Hartlepool|        Hartlepool|Hartlepool| England and Wales...|2021-09-17 11:24:04|  Owner-occupied|                        11.0|                        NULL| 10009711221.0|Energy Assessor|\n",
      "| 14|2cc2459f5ed92b287...|  37 TENNYSON AVENUE|          NULL|    NULL|TS25 5NX|              10001498336|                    D|                      B|                       59|                         82|        House|Semi-Detached|     2021-07-22|      E06000001|   E14000733|  NULL|    2021-07-22|              rental|                        56|                          81|                       288|                       125.0|                  4.0|                           50|                    1.8|                 96.0|                   67.0|               813.0|                 584.0|                  77.0|                    51.0|            80.0|       Single|             Y|       NULL|           NULL|             NULL|                 NULL|                 100.0|double glazing in...|     Normal|            1.0|                   4.0|                4.0|               56.0|                   0.0|    From main system|                Good|             Good|Suspended, no ins...|            NULL|         NULL|Fully double glazed|           Average|        Average|Cavity wall, as b...|            Poor|         Poor|  Room heaters, ele...|               NULL|            NULL|Pitched, 100 mm l...|        Average|     Average|Boiler and radiat...|               Good|            Good|    Programmer, room ...|                Good|             Good|Low energy lighti...|               Good|            Good|mains gas (not co...|               0.0|              NULL|                    NULL|        2.52|         0.0|                       N|               natural|  37 TENNYSON AVENUE|           Hartlepool|        Hartlepool|HARTLEPOOL| England and Wales...|2021-07-22 13:49:37| Rented (social)|                         9.0|                        NULL|100110030993.0|Energy Assessor|\n",
      "| 15|35782989913201911...|59, Brecongill Close|          NULL|    NULL|TS24 8PH|               9574007668|                    C|                      B|                       69|                         87|        House|  Mid-Terrace|     2019-11-05|      E06000001|   E14000733|  NULL|    2019-11-05|    rental (private)|                        68|                          87|                       252|                       101.0|                  2.4|                           44|                    1.0|                 88.0|                   44.0|               409.0|                 377.0|                  87.0|                    58.0|            55.0|       Single|             Y|    NODATA!|           NULL|             NULL|               2104.0|                 100.0|double glazing, u...|     Normal|            0.0|                   4.0|                4.0|                0.0|                   0.0|    From main system|                Good|             Good|Solid, no insulat...|        NO DATA!|         NULL|Fully double glazed|           Average|        Average|Cavity wall, as b...|            Good|         Good|                  None|               NULL|            NULL|Pitched, 150 mm l...|           Good|        Good|Boiler and radiat...|               Good|            Good|    Programmer and ro...|             Average|          Average|No low energy lig...|          Very Poor|       Very Poor|mains gas (not co...|               0.0|          NO DATA!|                    NULL|        NULL|        NULL|                       N|               natural|59, Brecongill Close|           Hartlepool|        Hartlepool|HARTLEPOOL| England and Wales...|2019-11-05 11:45:26|rental (private)|                        NULL|                        NULL| 10009711083.0|Address Matched|\n",
      "| 16|15741276468320180...|    4, Powell Street|          NULL|    NULL|TS26 9BN|               4538393578|                    D|                      C|                       59|                         79|        House|  Mid-Terrace|     2018-06-13|      E06000001|   E14000733|  NULL|    2018-06-14|   none of the above|                        54|                          75|                       359|                       195.0|                  3.7|                           63|                    2.1|                 80.0|                   43.0|               666.0|                 582.0|                  75.0|                    47.0|            59.0|       Single|             Y|    NODATA!|           NULL|             NULL|               2106.0|                 100.0|double glazing, u...|     Normal|            2.0|                   4.0|                4.0|               14.0|                   0.0|    From main system|                Good|             Good|Suspended, no ins...|        NO DATA!|         NULL|Fully double glazed|           Average|        Average|Cavity wall, as b...|            Poor|         Poor|  Room heaters, mai...|               NULL|            NULL|Pitched, no insul...|      Very Poor|   Very Poor|Boiler and radiat...|               Good|            Good|    Programmer, room ...|                Good|             Good|Low energy lighti...|               Poor|            Poor|mains gas (not co...|               0.0|          NO DATA!|                    NULL|        NULL|        NULL|                       N|               natural|    4, Powell Street|           Hartlepool|        Hartlepool|HARTLEPOOL| England and Wales...|2018-06-14 13:45:35|         unknown|                        NULL|                        NULL|100110025119.0|Address Matched|\n",
      "| 17|20088113060200812...| 11, Hereford Street|          NULL|    NULL|TS25 1QZ|               8688835568|                    E|                      D|                       49|                         61|        House|  End-Terrace|     2008-12-05|      E06000001|   E14000733|  NULL|    2008-12-08|    rental (private)|                        43|                          54|                       457|                       346.0|                  5.0|                           77|                    3.8|                 55.0|                   29.0|               633.0|                 503.0|                  85.0|                    70.0|           65.28|       Single|             Y|   NO DATA!|           NULL|             NULL|               2102.0|                 100.0|double glazing in...|     Normal|            1.0|                   3.0|                3.0|               12.0|                   0.0|    From main system|                Good|             Good|Suspended, no ins...|            NULL|         NULL|Fully double glazed|              Good|           Good|Solid brick, as b...|       Very Poor|    Very Poor|                  None|               NULL|            NULL|Pitched, 250 mm l...|           Good|        Good|Boiler and radiat...|               Good|            Good|    Programmer, no ro...|           Very Poor|        Very Poor|Low energy lighti...|               Poor|            Poor|mains gas - this ...|               0.0|          NO DATA!|                    NULL|       10.89|         0.0|                       N|               natural| 11, Hereford Street|           Hartlepool|        Hartlepool|HARTLEPOOL| England and Wales...|2008-12-08 12:45:48|rental (private)|                        NULL|                        NULL|100110014574.0|Address Matched|\n",
      "| 18|21834110471201104...|117, Throston Gra...|          NULL|    NULL|TS26 0TZ|               2378486568|                    E|                      D|                       41|                         65|        House|  End-Terrace|     2011-04-12|      E06000001|   E14000733|  NULL|    2011-04-12|       marketed sale|                        35|                          58|                       482|                       278.0|                  7.4|                           81|                    4.3|                 79.0|                   50.0|              1182.0|                 708.0|                 149.0|                   108.0|            91.5|       Single|             Y|   NO DATA!|           NULL|             NULL|               2102.0|                 100.0|double glazing, u...|     Normal|            1.0|                   5.0|                5.0|               40.0|                   0.0|    From main system|                Good|             Good|Suspended, no ins...|            NULL|         NULL|Fully double glazed|           Average|        Average|Solid brick, as b...|       Very Poor|    Very Poor|  Room heaters, mai...|               NULL|            NULL|Pitched, limited ...|      Very Poor|   Very Poor|Boiler and radiat...|               Good|            Good|    Programmer, no ro...|           Very Poor|        Very Poor|Low energy lighti...|            Average|         Average|mains gas - this ...|               0.0|          NO DATA!|                    NULL|         2.4|         0.0|                       N|               natural|117, Throston Gra...|           Hartlepool|        Hartlepool|HARTLEPOOL| England and Wales...|2011-04-12 22:41:21|  owner-occupied|                        NULL|                        NULL|100110031878.0|Address Matched|\n",
      "| 19|23547154143201409...|   21, Wasdale Close|          NULL|    NULL|TS24 8RF|               4053758568|                    D|                      B|                       67|                         88|        House|Semi-Detached|     2014-09-18|      E06000001|   E14000733|  NULL|    2014-09-24|assessment for gr...|                        67|                          89|                       218|                        74.0|                  3.0|                           42|                    1.0|                 57.0|                   57.0|               546.0|                 391.0|                 135.0|                    77.0|            71.0|       Single|             Y|    NODATA!|           NULL|             NULL|               2104.0|                 100.0|double glazing in...|     Normal|            0.0|                   5.0|                5.0|               75.0|                   0.0|    From main system|                Good|             Good|Solid, no insulat...|            NULL|         NULL|Fully double glazed|           Average|        Average|Cavity wall, fill...|            Good|         Good|                  None|               NULL|            NULL|Pitched, 250 mm l...|           Good|        Good|Boiler and radiat...|               Good|            Good|    Programmer and ro...|             Average|          Average|Low energy lighti...|          Very Good|       Very Good|mains gas (not co...|               0.0|          NO DATA!|                    NULL|        NULL|         0.0|                    NULL|               natural|   21, Wasdale Close|           Hartlepool|        Hartlepool|HARTLEPOOL| England and Wales...|2014-09-24 16:45:45|rental (private)|                         8.0|                         6.0|100110033612.0|Address Matched|\n",
      "+---+--------------------+--------------------+--------------+--------+--------+-------------------------+---------------------+-----------------------+-------------------------+---------------------------+-------------+-------------+---------------+---------------+------------+------+--------------+--------------------+--------------------------+----------------------------+--------------------------+----------------------------+---------------------+-----------------------------+-----------------------+---------------------+-----------------------+--------------------+----------------------+----------------------+------------------------+----------------+-------------+--------------+-----------+---------------+-----------------+---------------------+----------------------+--------------------+-----------+---------------+----------------------+-------------------+-------------------+----------------------+--------------------+--------------------+-----------------+--------------------+----------------+-------------+-------------------+------------------+---------------+--------------------+----------------+-------------+----------------------+-------------------+----------------+--------------------+---------------+------------+--------------------+-------------------+----------------+------------------------+--------------------+-----------------+--------------------+-------------------+----------------+--------------------+------------------+------------------+------------------------+------------+------------+------------------------+----------------------+--------------------+---------------------+------------------+----------+---------------------+-------------------+----------------+----------------------------+----------------------------+--------------+---------------+\n",
      "only showing top 20 rows\n",
      "\n"
     ]
    }
   ],
   "source": [
    "df.show()"
   ]
  },
  {
   "cell_type": "code",
   "execution_count": 10,
   "metadata": {},
   "outputs": [],
   "source": [
    "df = df.select(\n",
    "    \"_c0\", \"LMK_KEY\", \"ADDRESS\", \"ADDRESS2\", \"ADDRESS3\", \"CURRENT_ENERGY_EFFICIENCY\", \"PROPERTY_TYPE\", \"INSPECTION_DATE\",\n",
    "    \"HEATING_COST_CURRENT\", \"HOT_WATER_COST_CURRENT\", \"TOTAL_FLOOR_AREA\", \"NUMBER_HABITABLE_ROOMS\",\n",
    "    \"NUMBER_HEATED_ROOMS\"\n",
    ")"
   ]
  },
  {
   "cell_type": "markdown",
   "metadata": {},
   "source": [
    "Выведем на экран метаданные датасета."
   ]
  },
  {
   "cell_type": "code",
   "execution_count": 11,
   "metadata": {},
   "outputs": [
    {
     "name": "stdout",
     "output_type": "stream",
     "text": [
      "root\n",
      " |-- _c0: string (nullable = true)\n",
      " |-- LMK_KEY: string (nullable = true)\n",
      " |-- ADDRESS: string (nullable = true)\n",
      " |-- CURRENT_ENERGY_EFFICIENCY: string (nullable = true)\n",
      " |-- PROPERTY_TYPE: string (nullable = true)\n",
      " |-- INSPECTION_DATE: string (nullable = true)\n",
      " |-- HEATING_COST_CURRENT: string (nullable = true)\n",
      " |-- HOT_WATER_COST_CURRENT: string (nullable = true)\n",
      " |-- TOTAL_FLOOR_AREA: string (nullable = true)\n",
      " |-- NUMBER_HABITABLE_ROOMS: string (nullable = true)\n",
      " |-- NUMBER_HEATED_ROOMS: string (nullable = true)\n",
      "\n"
     ]
    }
   ],
   "source": [
    "df.printSchema()"
   ]
  },
  {
   "cell_type": "code",
   "execution_count": 12,
   "metadata": {},
   "outputs": [
    {
     "name": "stderr",
     "output_type": "stream",
     "text": [
      "[Stage 3:>                                                          (0 + 1) / 1]\r"
     ]
    },
    {
     "name": "stdout",
     "output_type": "stream",
     "text": [
      "+---+--------------------+--------------------+-------------------------+-------------+---------------+--------------------+----------------------+----------------+----------------------+-------------------+\n",
      "|_c0|             LMK_KEY|             ADDRESS|CURRENT_ENERGY_EFFICIENCY|PROPERTY_TYPE|INSPECTION_DATE|HEATING_COST_CURRENT|HOT_WATER_COST_CURRENT|TOTAL_FLOOR_AREA|NUMBER_HABITABLE_ROOMS|NUMBER_HEATED_ROOMS|\n",
      "+---+--------------------+--------------------+-------------------------+-------------+---------------+--------------------+----------------------+----------------+----------------------+-------------------+\n",
      "|  0|0003352408dad177e...|21 HERIOT GRANGE,...|                       53|         Flat|     2021-08-03|               119.0|                 583.0|            36.0|                   2.0|                2.0|\n",
      "|  1|15149389392220170...| 9, Sea View Terrace|                       66|        House|     2017-01-26|               666.0|                 107.0|            88.0|                   5.0|                5.0|\n",
      "|  2|14518657291020160...|    54, Chatham Road|                       61|        House|     2016-06-09|              1018.0|                 137.0|           110.0|                   6.0|                6.0|\n",
      "|  3|14206524924201002...|     10, Kendal Road|                       62|        House|     2010-02-09|               590.0|                  89.0|           68.18|                   4.0|                4.0|\n",
      "|  4|97883539621201905...| 19, Wainwright Walk|                       65|        House|     2019-05-17|              1051.0|                  97.0|           144.0|                   6.0|                6.0|\n",
      "|  5|13754325898420151...|   13, Wasdale Close|                       64|     Bungalow|     2015-10-15|               589.0|                 103.0|            58.0|                   3.0|                3.0|\n",
      "|  6|55704353445201010...|  12, Challoner Road|                       53|        House|     2010-10-25|               638.0|                 209.0|            77.8|                   3.0|                3.0|\n",
      "|  7|16366972240202003...|     2, Baden Street|                       58|        House|     2020-03-16|               784.0|                  89.0|            74.0|                   4.0|                4.0|\n",
      "|  8|12070003405201911...|34, Annandale Cre...|                       74|         Flat|     2019-11-19|               310.0|                  78.0|            49.0|                   2.0|                2.0|\n",
      "|  9|52898260990201008...| 25, Grainger Street|                       78|         Flat|     2010-08-18|               293.0|                  75.0|           50.71|                   3.0|                3.0|\n",
      "| 10|12127749397420141...|    21, Joicey Court|                       79|        House|     2014-10-02|               436.0|                 108.0|           108.0|                   4.0|                4.0|\n",
      "| 11|07c4c7365951025bb...|   20 OAKLAND AVENUE|                       58|        House|     2021-07-26|              1220.0|                 100.0|           138.0|                   6.0|                6.0|\n",
      "| 12|13417126881320190...|    116, Milton Road|                       56|        House|     2019-08-16|              1296.0|                 105.0|           127.0|                   5.0|                4.0|\n",
      "| 13|2cc79a42d6472023b...|   8, Mariners Point|                       71|         Flat|     2021-09-17|               573.0|                 254.0|            90.0|                   3.0|                3.0|\n",
      "| 14|2cc2459f5ed92b287...|  37 TENNYSON AVENUE|                       59|        House|     2021-07-22|               813.0|                  77.0|            80.0|                   4.0|                4.0|\n",
      "| 15|35782989913201911...|59, Brecongill Close|                       69|        House|     2019-11-05|               409.0|                  87.0|            55.0|                   4.0|                4.0|\n",
      "| 16|15741276468320180...|    4, Powell Street|                       59|        House|     2018-06-13|               666.0|                  75.0|            59.0|                   4.0|                4.0|\n",
      "| 17|20088113060200812...| 11, Hereford Street|                       49|        House|     2008-12-05|               633.0|                  85.0|           65.28|                   3.0|                3.0|\n",
      "| 18|21834110471201104...|117, Throston Gra...|                       41|        House|     2011-04-12|              1182.0|                 149.0|            91.5|                   5.0|                5.0|\n",
      "| 19|23547154143201409...|   21, Wasdale Close|                       67|        House|     2014-09-18|               546.0|                 135.0|            71.0|                   5.0|                5.0|\n",
      "+---+--------------------+--------------------+-------------------------+-------------+---------------+--------------------+----------------------+----------------+----------------------+-------------------+\n",
      "only showing top 20 rows\n",
      "\n"
     ]
    },
    {
     "name": "stderr",
     "output_type": "stream",
     "text": [
      "                                                                                \r"
     ]
    }
   ],
   "source": [
    "df.show()"
   ]
  },
  {
   "cell_type": "markdown",
   "metadata": {},
   "source": [
    "Видно, что все столбцы датасета содержат строковый тип данных, что не соответствует ожиданиям. Выполним преобразования типов данных некоторых столбцов."
   ]
  },
  {
   "cell_type": "code",
   "execution_count": 13,
   "metadata": {},
   "outputs": [],
   "source": [
    "def transform_dataframe(data: DataFrame) -> DataFrame:\n",
    "    \"\"\"\n",
    "    Преобразует столбцы DataFrame в указанные типы данных и\n",
    "    выполняет необходимые преобразования.\n",
    "\n",
    "    Args:\n",
    "        data (DataFrame): Исходный DataFrame.\n",
    "\n",
    "    Returns:\n",
    "        DataFrame: Преобразованный DataFrame.\n",
    "    \"\"\"\n",
    "    # Преобразуем столбцы в соответствующие типы данных\n",
    "    data = data.withColumn(\"_c0\",\n",
    "                           col(\"_c0\").cast(\"Integer\"))\n",
    "    data = data.withColumn(\"CURRENT_ENERGY_EFFICIENCY\",\n",
    "                           col(\"CURRENT_ENERGY_EFFICIENCY\").cast(\"Integer\"))\n",
    "    data = data.withColumn(\"INSPECTION_DATE\",\n",
    "                           col(\"INSPECTION_DATE\").cast(\"Date\"))\n",
    "    data = data.withColumn(\"HEATING_COST_CURRENT\",\n",
    "                           col(\"HEATING_COST_CURRENT\").cast(\"Float\"))\n",
    "    data = data.withColumn(\"HOT_WATER_COST_CURRENT\",\n",
    "                           col(\"HOT_WATER_COST_CURRENT\").cast(\"Float\"))\n",
    "    data = data.withColumn(\"TOTAL_FLOOR_AREA\",\n",
    "                           col(\"TOTAL_FLOOR_AREA\").cast(\"Float\"))\n",
    "    data = data.withColumn(\"NUMBER_HABITABLE_ROOMS\",\n",
    "                           col(\"NUMBER_HABITABLE_ROOMS\").cast(\"Float\"))\n",
    "    data = data.withColumn(\"NUMBER_HEATED_ROOMS\",\n",
    "                           col(\"NUMBER_HEATED_ROOMS\").cast(\"Float\"))\n",
    "    \n",
    "\n",
    "    return data"
   ]
  },
  {
   "cell_type": "code",
   "execution_count": 14,
   "metadata": {},
   "outputs": [],
   "source": [
    "df = transform_dataframe(df)"
   ]
  },
  {
   "cell_type": "code",
   "execution_count": 15,
   "metadata": {},
   "outputs": [
    {
     "name": "stderr",
     "output_type": "stream",
     "text": [
      "[Stage 4:>                                                          (0 + 1) / 1]\r"
     ]
    },
    {
     "name": "stdout",
     "output_type": "stream",
     "text": [
      "+---+--------------------+--------------------+-------------------------+-------------+---------------+--------------------+----------------------+----------------+----------------------+-------------------+\n",
      "|_c0|             LMK_KEY|             ADDRESS|CURRENT_ENERGY_EFFICIENCY|PROPERTY_TYPE|INSPECTION_DATE|HEATING_COST_CURRENT|HOT_WATER_COST_CURRENT|TOTAL_FLOOR_AREA|NUMBER_HABITABLE_ROOMS|NUMBER_HEATED_ROOMS|\n",
      "+---+--------------------+--------------------+-------------------------+-------------+---------------+--------------------+----------------------+----------------+----------------------+-------------------+\n",
      "|  0|0003352408dad177e...|21 HERIOT GRANGE,...|                       53|         Flat|     2021-08-03|               119.0|                 583.0|            36.0|                   2.0|                2.0|\n",
      "|  1|15149389392220170...| 9, Sea View Terrace|                       66|        House|     2017-01-26|               666.0|                 107.0|            88.0|                   5.0|                5.0|\n",
      "|  2|14518657291020160...|    54, Chatham Road|                       61|        House|     2016-06-09|              1018.0|                 137.0|           110.0|                   6.0|                6.0|\n",
      "|  3|14206524924201002...|     10, Kendal Road|                       62|        House|     2010-02-09|               590.0|                  89.0|           68.18|                   4.0|                4.0|\n",
      "|  4|97883539621201905...| 19, Wainwright Walk|                       65|        House|     2019-05-17|              1051.0|                  97.0|           144.0|                   6.0|                6.0|\n",
      "|  5|13754325898420151...|   13, Wasdale Close|                       64|     Bungalow|     2015-10-15|               589.0|                 103.0|            58.0|                   3.0|                3.0|\n",
      "|  6|55704353445201010...|  12, Challoner Road|                       53|        House|     2010-10-25|               638.0|                 209.0|            77.8|                   3.0|                3.0|\n",
      "|  7|16366972240202003...|     2, Baden Street|                       58|        House|     2020-03-16|               784.0|                  89.0|            74.0|                   4.0|                4.0|\n",
      "|  8|12070003405201911...|34, Annandale Cre...|                       74|         Flat|     2019-11-19|               310.0|                  78.0|            49.0|                   2.0|                2.0|\n",
      "|  9|52898260990201008...| 25, Grainger Street|                       78|         Flat|     2010-08-18|               293.0|                  75.0|           50.71|                   3.0|                3.0|\n",
      "| 10|12127749397420141...|    21, Joicey Court|                       79|        House|     2014-10-02|               436.0|                 108.0|           108.0|                   4.0|                4.0|\n",
      "| 11|07c4c7365951025bb...|   20 OAKLAND AVENUE|                       58|        House|     2021-07-26|              1220.0|                 100.0|           138.0|                   6.0|                6.0|\n",
      "| 12|13417126881320190...|    116, Milton Road|                       56|        House|     2019-08-16|              1296.0|                 105.0|           127.0|                   5.0|                4.0|\n",
      "| 13|2cc79a42d6472023b...|   8, Mariners Point|                       71|         Flat|     2021-09-17|               573.0|                 254.0|            90.0|                   3.0|                3.0|\n",
      "| 14|2cc2459f5ed92b287...|  37 TENNYSON AVENUE|                       59|        House|     2021-07-22|               813.0|                  77.0|            80.0|                   4.0|                4.0|\n",
      "| 15|35782989913201911...|59, Brecongill Close|                       69|        House|     2019-11-05|               409.0|                  87.0|            55.0|                   4.0|                4.0|\n",
      "| 16|15741276468320180...|    4, Powell Street|                       59|        House|     2018-06-13|               666.0|                  75.0|            59.0|                   4.0|                4.0|\n",
      "| 17|20088113060200812...| 11, Hereford Street|                       49|        House|     2008-12-05|               633.0|                  85.0|           65.28|                   3.0|                3.0|\n",
      "| 18|21834110471201104...|117, Throston Gra...|                       41|        House|     2011-04-12|              1182.0|                 149.0|            91.5|                   5.0|                5.0|\n",
      "| 19|23547154143201409...|   21, Wasdale Close|                       67|        House|     2014-09-18|               546.0|                 135.0|            71.0|                   5.0|                5.0|\n",
      "+---+--------------------+--------------------+-------------------------+-------------+---------------+--------------------+----------------------+----------------+----------------------+-------------------+\n",
      "only showing top 20 rows\n",
      "\n"
     ]
    },
    {
     "name": "stderr",
     "output_type": "stream",
     "text": [
      "                                                                                \r"
     ]
    }
   ],
   "source": [
    "df.show()"
   ]
  },
  {
   "cell_type": "code",
   "execution_count": 22,
   "metadata": {},
   "outputs": [
    {
     "name": "stdout",
     "output_type": "stream",
     "text": [
      "root\n",
      " |-- _c0: integer (nullable = true)\n",
      " |-- LMK_KEY: string (nullable = true)\n",
      " |-- ADDRESS: string (nullable = true)\n",
      " |-- CURRENT_ENERGY_EFFICIENCY: integer (nullable = true)\n",
      " |-- PROPERTY_TYPE: string (nullable = true)\n",
      " |-- INSPECTION_DATE: date (nullable = true)\n",
      " |-- HEATING_COST_CURRENT: float (nullable = true)\n",
      " |-- HOT_WATER_COST_CURRENT: float (nullable = true)\n",
      " |-- TOTAL_FLOOR_AREA: float (nullable = true)\n",
      " |-- NUMBER_HABITABLE_ROOMS: float (nullable = true)\n",
      " |-- NUMBER_HEATED_ROOMS: float (nullable = true)\n",
      "\n"
     ]
    }
   ],
   "source": [
    "df.printSchema()"
   ]
  },
  {
   "cell_type": "markdown",
   "metadata": {},
   "source": [
    "Видно, что теперь столбцы датафрейма содержат значения корректных типов.\n",
    "\n",
    "Полученный датафрейм сохраним для дальнейшего использования. Сохранение выполним в таблицу `Apache Iceberg`. \n",
    "\n",
    "`Apache Iceberg` — это поддерживающий высокую производительность табличный формат для больших данных.\n",
    "\n",
    "Сначала создадим базу данных, в которой будет расположена таблица. Во избежание путаницы, **каждую таблицу следует называть с использованием фамилии студента**."
   ]
  },
  {
   "cell_type": "code",
   "execution_count": 23,
   "metadata": {},
   "outputs": [],
   "source": [
    "database_name = \"Efremenkov_database\""
   ]
  },
  {
   "cell_type": "markdown",
   "metadata": {},
   "source": [
    "Создадим инструкцию SQL для добавления базы данных в каталог `Apache Spark`."
   ]
  },
  {
   "cell_type": "code",
   "execution_count": 24,
   "metadata": {},
   "outputs": [],
   "source": [
    "create_database_sql = f\"\"\"\n",
    "CREATE DATABASE IF NOT EXISTS spark_catalog.{database_name}\n",
    "\"\"\""
   ]
  },
  {
   "cell_type": "code",
   "execution_count": 25,
   "metadata": {},
   "outputs": [
    {
     "data": {
      "text/plain": [
       "DataFrame[]"
      ]
     },
     "execution_count": 25,
     "metadata": {},
     "output_type": "execute_result"
    }
   ],
   "source": [
    "spark.sql(create_database_sql)"
   ]
  },
  {
   "cell_type": "markdown",
   "metadata": {},
   "source": [
    "Установим созданную базу данных как текущую."
   ]
  },
  {
   "cell_type": "code",
   "execution_count": 26,
   "metadata": {},
   "outputs": [],
   "source": [
    "spark.catalog.setCurrentDatabase(database_name)"
   ]
  },
  {
   "cell_type": "markdown",
   "metadata": {},
   "source": [
    "И, наконец, записываем преобразованный датафрейм в таблицу `sobd_lab1_table`."
   ]
  },
  {
   "cell_type": "code",
   "execution_count": 27,
   "metadata": {},
   "outputs": [
    {
     "name": "stderr",
     "output_type": "stream",
     "text": [
      "                                                                                \r"
     ]
    }
   ],
   "source": [
    "# Сохранение DataFrame в виде таблицы\n",
    "df.writeTo(\"sobd_lab1_table\").using(\"iceberg\").create()"
   ]
  },
  {
   "cell_type": "markdown",
   "metadata": {},
   "source": [
    "После успешной записи можно посмотреть, какие таблицы входят в базу данных."
   ]
  },
  {
   "cell_type": "code",
   "execution_count": 28,
   "metadata": {},
   "outputs": [
    {
     "name": "stdout",
     "output_type": "stream",
     "text": [
      "sobd_lab1_table\n"
     ]
    }
   ],
   "source": [
    "for table in spark.catalog.listTables():\n",
    "    print(table.name)"
   ]
  },
  {
   "cell_type": "markdown",
   "metadata": {},
   "source": [
    "Обратите внимание, что при необходимости созданные базу данных и таблицу можно удалить следующими командами."
   ]
  },
  {
   "cell_type": "code",
   "execution_count": null,
   "metadata": {},
   "outputs": [
    {
     "data": {
      "text/plain": [
       "DataFrame[]"
      ]
     },
     "execution_count": 7,
     "metadata": {},
     "output_type": "execute_result"
    }
   ],
   "source": [
    "#spark.sql(\"DROP TABLE spark_catalog.Efremenkov_database.sobd_lab1_table\")\n",
    "#spark.sql(\"DROP DATABASE spark_catalog.Efremenkov_database\")"
   ]
  },
  {
   "cell_type": "markdown",
   "metadata": {},
   "source": [
    "После успешной записи таблицы останавливаем сессию `Apache Spark`."
   ]
  },
  {
   "cell_type": "code",
   "execution_count": null,
   "metadata": {},
   "outputs": [],
   "source": [
    "spark.stop()"
   ]
  }
 ],
 "metadata": {
  "kernelspec": {
   "display_name": "pyspark-env",
   "language": "python",
   "name": "python3"
  },
  "language_info": {
   "codemirror_mode": {
    "name": "ipython",
    "version": 3
   },
   "file_extension": ".py",
   "mimetype": "text/x-python",
   "name": "python",
   "nbconvert_exporter": "python",
   "pygments_lexer": "ipython3",
   "version": "3.11.9"
  }
 },
 "nbformat": 4,
 "nbformat_minor": 2
}
